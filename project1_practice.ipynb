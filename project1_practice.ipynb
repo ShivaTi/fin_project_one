{
 "cells": [
  {
   "cell_type": "code",
   "execution_count": 10,
   "metadata": {},
   "outputs": [],
   "source": [
    "# imports\n",
    "import panel as pn\n",
    "pn.extension('plotly')\n",
    "import plotly.express as px\n",
    "import pandas as pd\n",
    "import hvplot.pandas\n",
    "import matplotlib.pyplot as plt\n",
    "import os\n",
    "from pathlib import Path\n",
    "from dotenv import load_dotenv\n",
    "from panel.interact import interact"
   ]
  },
  {
   "cell_type": "code",
   "execution_count": 11,
   "metadata": {},
   "outputs": [],
   "source": [
    "import panel as pn\n",
    "pn.extension(\"plotly\")"
   ]
  },
  {
   "cell_type": "code",
   "execution_count": 12,
   "metadata": {},
   "outputs": [],
   "source": [
    "def income_level(user_input):\n",
    "    return "
   ]
  },
  {
   "cell_type": "code",
   "execution_count": 13,
   "metadata": {},
   "outputs": [],
   "source": [
    "def risk_level(user_input_risk):\n",
    "    return"
   ]
  },
  {
   "cell_type": "code",
   "execution_count": 14,
   "metadata": {},
   "outputs": [],
   "source": [
    "def asset_class(stocks_input):\n",
    "    \n",
    "    \n",
    "    return stocks_input"
   ]
  },
  {
   "cell_type": "code",
   "execution_count": 15,
   "metadata": {},
   "outputs": [],
   "source": [
    "def age(user_age):\n",
    "    return "
   ]
  },
  {
   "cell_type": "code",
   "execution_count": 16,
   "metadata": {},
   "outputs": [],
   "source": [
    "# Create a Title for the Dashboard\n",
    "# YOUR CODE HERE!\n",
    "dashboard_title = '# Portfolio optimization MOSA'\n",
    "\n",
    "# Define a welcome text\n",
    "# YOUR CODE HERE!\n",
    "welcome_txt = \"## Are you ready for this amazing journey of portfolio maiximization ?\"\n"
   ]
  },
  {
   "cell_type": "code",
   "execution_count": 8,
   "metadata": {},
   "outputs": [],
   "source": [
    "#interact function\n",
    "income_testing =interact(income_level,user_input=\"\")\n",
    "risk_testing = interact(risk_level,user_input_risk=8)\n",
    "asset_testing = interact(asset_class, stocks_input =\"stocks samples\")\n",
    "age_testing = interact(age,user_age =100)"
   ]
  },
  {
   "cell_type": "code",
   "execution_count": null,
   "metadata": {},
   "outputs": [],
   "source": []
  },
  {
   "cell_type": "code",
   "execution_count": 17,
   "metadata": {},
   "outputs": [
    {
     "data": {},
     "metadata": {},
     "output_type": "display_data"
    },
    {
     "data": {
      "application/vnd.holoviews_exec.v0+json": "",
      "text/html": [
       "<div id='1032'>\n",
       "\n",
       "\n",
       "\n",
       "\n",
       "\n",
       "  <div class=\"bk-root\" id=\"c8dc51b8-0333-4233-a6b0-280a59b4b07a\" data-root-id=\"1032\"></div>\n",
       "</div>\n",
       "<script type=\"application/javascript\">(function(root) {\n",
       "  function embed_document(root) {\n",
       "    var docs_json = {\"d54fd944-9770-42ef-be62-f3d304e38290\":{\"roots\":{\"references\":[{\"attributes\":{\"children\":[{\"id\":\"1056\"},{\"id\":\"1058\"}],\"margin\":[0,0,0,0],\"name\":\"Column01472\"},\"id\":\"1055\",\"type\":\"Column\"},{\"attributes\":{\"children\":[{\"id\":\"1041\"}],\"margin\":[0,0,0,0],\"name\":\"Row01455\"},\"id\":\"1040\",\"type\":\"Row\"},{\"attributes\":{\"children\":[{\"id\":\"1057\"}],\"margin\":[0,0,0,0],\"name\":\"Column01477\"},\"id\":\"1056\",\"type\":\"Column\"},{\"attributes\":{\"children\":[{\"id\":\"1053\"}],\"margin\":[0,0,0,0],\"name\":\"Row01469\"},\"id\":\"1052\",\"type\":\"Row\"},{\"attributes\":{\"children\":[{\"id\":\"1033\"},{\"id\":\"1034\"}],\"margin\":[0,0,0,0],\"name\":\"Column01494\"},\"id\":\"1032\",\"type\":\"Column\"},{\"attributes\":{\"margin\":[5,5,5,5],\"name\":\"interactive01457\"},\"id\":\"1047\",\"type\":\"panel.models.markup.HTML\"},{\"attributes\":{\"child\":{\"id\":\"1035\"},\"name\":\"Welcome\",\"title\":\"Welcome\"},\"id\":\"1036\",\"type\":\"Panel\"},{\"attributes\":{\"child\":{\"id\":\"1049\"},\"name\":\"Column01465\",\"title\":\"Assets\"},\"id\":\"1054\",\"type\":\"Panel\"},{\"attributes\":{\"css_classes\":[\"markdown\"],\"margin\":[5,5,5,5],\"name\":\"Welcome\",\"text\":\"&lt;h2&gt;Are you ready for this amazing journey of portfolio maiximization ?&lt;/h2&gt;\"},\"id\":\"1035\",\"type\":\"panel.models.markup.HTML\"},{\"attributes\":{\"margin\":[0,0,0,0],\"tabs\":[{\"id\":\"1036\"},{\"id\":\"1042\"},{\"id\":\"1048\"},{\"id\":\"1054\"},{\"id\":\"1060\"}]},\"id\":\"1034\",\"type\":\"Tabs\"},{\"attributes\":{\"children\":[{\"id\":\"1050\"},{\"id\":\"1052\"}],\"margin\":[0,0,0,0],\"name\":\"Column01465\"},\"id\":\"1049\",\"type\":\"Column\"},{\"attributes\":{\"margin\":[5,10,5,10],\"title\":\"stocks_input\",\"value\":\"stocks samples\"},\"id\":\"1051\",\"type\":\"TextInput\"},{\"attributes\":{\"children\":[{\"id\":\"1059\"}],\"margin\":[0,0,0,0],\"name\":\"Row01476\"},\"id\":\"1058\",\"type\":\"Row\"},{\"attributes\":{\"children\":[{\"id\":\"1047\"}],\"margin\":[0,0,0,0],\"name\":\"Row01462\"},\"id\":\"1046\",\"type\":\"Row\"},{\"attributes\":{\"child\":{\"id\":\"1037\"},\"name\":\"Column01451\",\"title\":\"Income Level\"},\"id\":\"1042\",\"type\":\"Panel\"},{\"attributes\":{\"child\":{\"id\":\"1043\"},\"name\":\"Column01458\",\"title\":\"Risk preference\"},\"id\":\"1048\",\"type\":\"Panel\"},{\"attributes\":{\"margin\":[5,5,5,5],\"name\":\"interactive01450\"},\"id\":\"1041\",\"type\":\"panel.models.markup.HTML\"},{\"attributes\":{\"child\":{\"id\":\"1055\"},\"name\":\"Column01472\",\"title\":\"Age\"},\"id\":\"1060\",\"type\":\"Panel\"},{\"attributes\":{\"css_classes\":[\"markdown\"],\"margin\":[5,5,5,5],\"name\":\"Markdown01492\",\"text\":\"&lt;h1&gt;Portfolio optimization MOSA&lt;/h1&gt;\"},\"id\":\"1033\",\"type\":\"panel.models.markup.HTML\"},{\"attributes\":{\"children\":[{\"id\":\"1044\"},{\"id\":\"1046\"}],\"margin\":[0,0,0,0],\"name\":\"Column01458\"},\"id\":\"1043\",\"type\":\"Column\"},{\"attributes\":{\"margin\":[5,10,5,10],\"title\":\"user_input\"},\"id\":\"1039\",\"type\":\"TextInput\"},{\"attributes\":{\"css_classes\":[\"markdown\"],\"margin\":[5,5,5,5],\"name\":\"interactive01464\",\"text\":\"&lt;p&gt;stocks samples&lt;/p&gt;\"},\"id\":\"1053\",\"type\":\"panel.models.markup.HTML\"},{\"attributes\":{\"end\":24,\"format\":\"0[.]00\",\"margin\":[5,10,5,10],\"start\":-8,\"title\":\"user_input_risk\",\"value\":8,\"value_throttled\":8},\"id\":\"1045\",\"type\":\"Slider\"},{\"attributes\":{\"margin\":[5,5,5,5],\"name\":\"interactive01471\"},\"id\":\"1059\",\"type\":\"panel.models.markup.HTML\"},{\"attributes\":{\"client_comm_id\":\"495c165f03bb4b40a0638a97f914b880\",\"comm_id\":\"b2e980d6845845d3a97e938a6874e3d3\",\"plot_id\":\"1032\"},\"id\":\"1061\",\"type\":\"panel.models.comm_manager.CommManager\"},{\"attributes\":{\"children\":[{\"id\":\"1038\"},{\"id\":\"1040\"}],\"margin\":[0,0,0,0],\"name\":\"Column01451\"},\"id\":\"1037\",\"type\":\"Column\"},{\"attributes\":{\"children\":[{\"id\":\"1039\"}],\"margin\":[0,0,0,0],\"name\":\"Column01456\"},\"id\":\"1038\",\"type\":\"Column\"},{\"attributes\":{\"children\":[{\"id\":\"1051\"}],\"margin\":[0,0,0,0],\"name\":\"Column01470\"},\"id\":\"1050\",\"type\":\"Column\"},{\"attributes\":{\"reload\":false},\"id\":\"1062\",\"type\":\"panel.models.location.Location\"},{\"attributes\":{\"children\":[{\"id\":\"1045\"}],\"margin\":[0,0,0,0],\"name\":\"Column01463\"},\"id\":\"1044\",\"type\":\"Column\"},{\"attributes\":{\"end\":300,\"format\":\"0[.]00\",\"margin\":[5,10,5,10],\"start\":-100,\"title\":\"user_age\",\"value\":100,\"value_throttled\":100},\"id\":\"1057\",\"type\":\"Slider\"}],\"root_ids\":[\"1032\",\"1061\",\"1062\"]},\"title\":\"Bokeh Application\",\"version\":\"2.2.3\"}};\n",
       "    var render_items = [{\"docid\":\"d54fd944-9770-42ef-be62-f3d304e38290\",\"root_ids\":[\"1032\"],\"roots\":{\"1032\":\"c8dc51b8-0333-4233-a6b0-280a59b4b07a\"}}];\n",
       "    root.Bokeh.embed.embed_items_notebook(docs_json, render_items);\n",
       "  }\n",
       "  if (root.Bokeh !== undefined && root.Bokeh.Panel !== undefined && root['Plotly'] !== undefined ) {\n",
       "    embed_document(root);\n",
       "  } else {\n",
       "    var attempts = 0;\n",
       "    var timer = setInterval(function(root) {\n",
       "      if (root.Bokeh !== undefined && root.Bokeh.Panel !== undefined && root['Plotly'] !== undefined) {\n",
       "        clearInterval(timer);\n",
       "        embed_document(root);\n",
       "      } else if (document.readyState == \"complete\") {\n",
       "        attempts++;\n",
       "        if (attempts > 100) {\n",
       "          clearInterval(timer);\n",
       "          console.log(\"Bokeh: ERROR: Unable to run BokehJS code because BokehJS library is missing\");\n",
       "        }\n",
       "      }\n",
       "    }, 10, root)\n",
       "  }\n",
       "})(window);</script>"
      ],
      "text/plain": [
       "Column\n",
       "    [0] Markdown(str)\n",
       "    [1] Tabs\n",
       "        [0] Markdown(str, name='Welcome')\n",
       "        [1] Column\n",
       "            [0] Column\n",
       "                [0] TextInput(name='user_input')\n",
       "            [1] Row\n",
       "                [0] Str(None, name='interactive01450')\n",
       "        [2] Column\n",
       "            [0] Column\n",
       "                [0] IntSlider(end=24, name='user_input_risk', start=-8, value=8, value_throttled=8)\n",
       "            [1] Row\n",
       "                [0] Str(None, name='interactive01457')\n",
       "        [3] Column\n",
       "            [0] Column\n",
       "                [0] TextInput(name='stocks_input', value='stocks samples')\n",
       "            [1] Row\n",
       "                [0] Markdown(str, name='interactive01464')\n",
       "        [4] Column\n",
       "            [0] Column\n",
       "                [0] IntSlider(end=300, name='user_age', start=-100, value=100, value_throttled=100)\n",
       "            [1] Row\n",
       "                [0] Str(None, name='interactive01471')"
      ]
     },
     "execution_count": 17,
     "metadata": {
      "application/vnd.holoviews_exec.v0+json": {
       "id": "1032"
      }
     },
     "output_type": "execute_result"
    }
   ],
   "source": [
    "##create multiple Tabs\n",
    "\n",
    "\n",
    "\n",
    "\n",
    "tabs = pn.Tabs(\n",
    "    (\"Welcome\",welcome_txt),\n",
    "    (\"Income Level\",income_testing),\n",
    "    (\"Risk preference\", risk_testing),\n",
    "    (\"Assets\", asset_testing),\n",
    "    (\"Age\", age_testing)\n",
    ")\n",
    "\n",
    "tabs\n",
    "\n",
    "\n",
    "\n",
    "\n",
    "# Create the main dashboard\n",
    "dashboard_column = pn.Column(\n",
    "    dashboard_title,\n",
    "    tabs\n",
    ")\n",
    "dashboard_column\n"
   ]
  },
  {
   "cell_type": "code",
   "execution_count": null,
   "metadata": {},
   "outputs": [],
   "source": []
  }
 ],
 "metadata": {
  "kernelspec": {
   "display_name": "Python 3",
   "language": "python",
   "name": "python3"
  },
  "language_info": {
   "codemirror_mode": {
    "name": "ipython",
    "version": 3
   },
   "file_extension": ".py",
   "mimetype": "text/x-python",
   "name": "python",
   "nbconvert_exporter": "python",
   "pygments_lexer": "ipython3",
   "version": "3.7.9"
  }
 },
 "nbformat": 4,
 "nbformat_minor": 4
}
